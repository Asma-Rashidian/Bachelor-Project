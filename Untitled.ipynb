{
 "cells": [
  {
   "cell_type": "code",
   "execution_count": 1,
   "metadata": {},
   "outputs": [],
   "source": [
    "\n",
    "import numpy as np \n",
    "import networkx as nx\n",
    "import cv2\n",
    "import math\n",
    "import matplotlib.pyplot as plt \n",
    "import pyvis\n",
    "from pyvis.network import Network\n",
    "from superPixel import SLIC"
   ]
  },
  {
   "cell_type": "code",
   "execution_count": 2,
   "metadata": {},
   "outputs": [],
   "source": [
    "import numpy as np\n",
    "import networkx as nx \n",
    "import collections \n",
    "import matplotlib.pyplot as plt\n",
    "\n"
   ]
  },
  {
   "cell_type": "code",
   "execution_count": 3,
   "metadata": {},
   "outputs": [],
   "source": [
    "\n",
    "class NetworkX ():\n",
    "    def __init__(self , imagePath  , numSuperPixelExc = 2 , labweight = 0.5 , numSegments = 5000  , compactness = 10 , radius = 15 , graphType = \"degree_rank\" ):\n",
    "        self.imagePath = imagePath \n",
    "        self.numSuperPixelExc = numSuperPixelExc\n",
    "        self.labweight = labweight\n",
    "        self.numSegments = numSegments\n",
    "        self.compactness = compactness\n",
    "        self.isBordered = False\n",
    "        self.radius = radius\n",
    "        self.Graph = nx.Graph()\n",
    "        self.graphType = graphType \n",
    "        \n",
    "    def graphImplementation(self):\n",
    "        image = SLIC('/home/asma/Documents/Programing/BachelorProject/bachelorPro/Bachelor-Project/images/img1.jpg', 5000, 10)\n",
    "        imageArr = image.execute(self.numSuperPixelExc, self.labweight  , self.isBordered)\n",
    "        cv2.imshow(\"\" , imageArr) \n",
    "        cv2.waitKey(0)\n",
    "\n",
    "\n",
    "        \"\"\"\n",
    "            Construct a Graph based on Complex NetworkX . \n",
    "        \"\"\"\n",
    "        for i in range( 0 , len(image.clusters)):\n",
    "            x, y = image.clusters[i].x , image.clusters[i].y\n",
    "            r, g, b = image.clusters[i].r , image.clusters[i].b , image.clusters[i].g\n",
    "\n",
    "            self.Graph.add_node((x, y) , rgb = ( r, g, b))\n",
    "\n",
    "        # print(self.Graph.nodes(data = True))\n",
    "\n",
    "        \n",
    "        def euclideanDistance( x1, y1, x2 , y2 ):\n",
    "            distance = math.sqrt((x1 - x2)** 2 + (y1 - y2)**2)\n",
    "            return  distance < self.radius , distance \n",
    "\n",
    "        def weight ( distance , r, g, b, r1 , g1 , b1):\n",
    "            rgb = math.sqrt((r - r1)** 2 + (g - g1)**2 + (b - b1)**2)\n",
    "            w = distance + rgb \n",
    "            return w\n",
    "\n",
    "\n",
    "        for node in self.Graph.nodes(data = True) :\n",
    "            x , y = node[0][0] , node[0][1]\n",
    "            r, g, b = node[1]['rgb'][0] ,  node[1]['rgb'][1] ,  node[1]['rgb'][1]\n",
    "            \n",
    "            for no in self.Graph.nodes(data = True):\n",
    "                x1 , y1 = no[0][0] , no[0][1]\n",
    "                edgeDistance = euclideanDistance( x, y, x1 ,y1)\n",
    "                \n",
    "                if edgeDistance[0] == True:\n",
    "                    r1, g1, b1 = no[1]['rgb'][0] , no[1]['rgb'][1] , no[1]['rgb'][1]\n",
    "                    w = weight(edgeDistance[1] ,r, g, b, r1 , g1 , b1)\n",
    "                    self.Graph.add_edge((x,y) , (x1 ,y1) , weight= w )\n",
    "\n",
    "        # print(len(self.Graph.edges()))\n",
    "        # print(self.Graph.edges(data= True))\n",
    "\n",
    "        # remove selfloops from network \n",
    "        loops = list(nx.selfloop_edges(self.Graph))\n",
    "        self.Graph.remove_edges_from(loops)\n",
    "\n",
    " \n",
    "    def histogramDegree(self):\n",
    "        degreeSequence = sorted([d for n , d in self.Graph] , reverse=True) # n is the node and d is the degree of that node and this is the array of degrees \n",
    "        degreeCount = collections.Counter(degreeSequence)\n",
    "        deg , cnt =  zip(*degreeCount.items())\n",
    "        fig, ax = plt.subplots()\n",
    "        plt.bar(deg, cnt, width=0.80, color='b')\n",
    "\n",
    "        plt.title(\"Degree Histogram\")\n",
    "        plt.ylabel(\"Count\")\n",
    "        plt.xlabel(\"Degree\")\n",
    "        ax.set_xticks([d + 0.4 for d in deg])\n",
    "        ax.set_xticklabels(deg)\n",
    "        plt.show()\n",
    "\n",
    "\n",
    "       \n",
    "    def graphExecute(self):\n",
    "        self.graphImplementation()\n",
    "        # print(self.Graph.nodes(data = True))\n",
    "        print(\"[Info] number of graph edges :{} \".format(len(self.Graph.edges())))\n",
    "#         self.graphVisualization()\n",
    "        self.histogramDegree()\n",
    "\n"
   ]
  },
  {
   "cell_type": "code",
   "execution_count": 4,
   "metadata": {},
   "outputs": [
    {
     "name": "stdout",
     "output_type": "stream",
     "text": [
      "\t \t Runtime:  28.70292934600002\n"
     ]
    },
    {
     "name": "stderr",
     "output_type": "stream",
     "text": [
      "Lossy conversion from float64 to uint8. Range [0, 1]. Convert image to uint8 prior to saving to suppress this warning.\n"
     ]
    },
    {
     "name": "stdout",
     "output_type": "stream",
     "text": [
      "\t \t Runtime:  27.844893031000538\n"
     ]
    },
    {
     "name": "stderr",
     "output_type": "stream",
     "text": [
      "Lossy conversion from float64 to uint8. Range [0, 1]. Convert image to uint8 prior to saving to suppress this warning.\n"
     ]
    },
    {
     "name": "stdout",
     "output_type": "stream",
     "text": [
      "[Info] number of graph edges :13509 \n"
     ]
    },
    {
     "data": {
      "image/png": "[encoded data removed]",
      "text/plain": [
       "<Figure size 432x288 with 1 Axes>"
      ]
     },
     "metadata": {
      "needs_background": "light"
     },
     "output_type": "display_data"
    }
   ],
   "source": [
    "\n",
    "imageNet = NetworkX(\"/home/asma/Documents/Programing/BachelorProject/bachelorPro/Bachelor-Project/images/img1.jpg\" )\n",
    "imageNet.graphExecute()\n",
    "\n"
   ]
  },
  {
   "cell_type": "code",
   "execution_count": null,
   "metadata": {},
   "outputs": [],
   "source": []
  },
  {
   "cell_type": "code",
   "execution_count": null,
   "metadata": {},
   "outputs": [],
   "source": []
  },
  {
   "cell_type": "code",
   "execution_count": null,
   "metadata": {},
   "outputs": [],
   "source": []
  },
  {
   "cell_type": "code",
   "execution_count": null,
   "metadata": {},
   "outputs": [],
   "source": []
  },
  {
   "cell_type": "code",
   "execution_count": null,
   "metadata": {},
   "outputs": [],
   "source": [
    "\n"
   ]
  },
  {
   "cell_type": "code",
   "execution_count": null,
   "metadata": {},
   "outputs": [],
   "source": []
  },
  {
   "cell_type": "code",
   "execution_count": null,
   "metadata": {},
   "outputs": [],
   "source": [
    "\n"
   ]
  },
  {
   "cell_type": "code",
   "execution_count": null,
   "metadata": {},
   "outputs": [],
   "source": []
  },
  {
   "cell_type": "code",
   "execution_count": null,
   "metadata": {},
   "outputs": [],
   "source": []
  },
  {
   "cell_type": "code",
   "execution_count": null,
   "metadata": {},
   "outputs": [],
   "source": []
  },
  {
   "cell_type": "code",
   "execution_count": null,
   "metadata": {},
   "outputs": [],
   "source": []
  },
  {
   "cell_type": "code",
   "execution_count": null,
   "metadata": {},
   "outputs": [],
   "source": []
  },
  {
   "cell_type": "code",
   "execution_count": null,
   "metadata": {},
   "outputs": [],
   "source": []
  },
  {
   "cell_type": "code",
   "execution_count": null,
   "metadata": {},
   "outputs": [],
   "source": []
  },
  {
   "cell_type": "code",
   "execution_count": null,
   "metadata": {},
   "outputs": [],
   "source": []
  },
  {
   "cell_type": "code",
   "execution_count": null,
   "metadata": {},
   "outputs": [],
   "source": []
  },
  {
   "cell_type": "code",
   "execution_count": null,
   "metadata": {},
   "outputs": [],
   "source": []
  },
  {
   "cell_type": "code",
   "execution_count": null,
   "metadata": {},
   "outputs": [],
   "source": []
  },
  {
   "cell_type": "code",
   "execution_count": null,
   "metadata": {},
   "outputs": [],
   "source": []
  },
  {
   "cell_type": "code",
   "execution_count": null,
   "metadata": {},
   "outputs": [],
   "source": []
  },
  {
   "cell_type": "code",
   "execution_count": null,
   "metadata": {},
   "outputs": [],
   "source": []
  },
  {
   "cell_type": "code",
   "execution_count": null,
   "metadata": {},
   "outputs": [],
   "source": []
  },
  {
   "cell_type": "code",
   "execution_count": null,
   "metadata": {},
   "outputs": [],
   "source": []
  },
  {
   "cell_type": "code",
   "execution_count": null,
   "metadata": {},
   "outputs": [],
   "source": []
  },
  {
   "cell_type": "code",
   "execution_count": null,
   "metadata": {},
   "outputs": [],
   "source": []
  },
  {
   "cell_type": "code",
   "execution_count": null,
   "metadata": {},
   "outputs": [],
   "source": []
  },
  {
   "cell_type": "code",
   "execution_count": null,
   "metadata": {},
   "outputs": [],
   "source": []
  },
  {
   "cell_type": "code",
   "execution_count": null,
   "metadata": {},
   "outputs": [],
   "source": []
  },
  {
   "cell_type": "code",
   "execution_count": null,
   "metadata": {},
   "outputs": [],
   "source": []
  },
  {
   "cell_type": "code",
   "execution_count": null,
   "metadata": {},
   "outputs": [],
   "source": []
  },
  {
   "cell_type": "code",
   "execution_count": null,
   "metadata": {},
   "outputs": [],
   "source": []
  },
  {
   "cell_type": "code",
   "execution_count": null,
   "metadata": {},
   "outputs": [],
   "source": []
  },
  {
   "cell_type": "code",
   "execution_count": null,
   "metadata": {},
   "outputs": [],
   "source": []
  },
  {
   "cell_type": "code",
   "execution_count": null,
   "metadata": {},
   "outputs": [],
   "source": []
  },
  {
   "cell_type": "code",
   "execution_count": null,
   "metadata": {},
   "outputs": [],
   "source": []
  },
  {
   "cell_type": "code",
   "execution_count": null,
   "metadata": {},
   "outputs": [],
   "source": []
  },
  {
   "cell_type": "code",
   "execution_count": null,
   "metadata": {},
   "outputs": [],
   "source": []
  },
  {
   "cell_type": "code",
   "execution_count": null,
   "metadata": {},
   "outputs": [],
   "source": []
  },
  {
   "cell_type": "code",
   "execution_count": null,
   "metadata": {},
   "outputs": [],
   "source": []
  },
  {
   "cell_type": "code",
   "execution_count": null,
   "metadata": {},
   "outputs": [],
   "source": []
  },
  {
   "cell_type": "code",
   "execution_count": null,
   "metadata": {},
   "outputs": [],
   "source": []
  }
 ],
 "metadata": {
  "kernelspec": {
   "display_name": "Python 3",
   "language": "python",
   "name": "python3"
  },
  "language_info": {
   "codemirror_mode": {
    "name": "ipython",
    "version": 3
   },
   "file_extension": ".py",
   "mimetype": "text/x-python",
   "name": "python",
   "nbconvert_exporter": "python",
   "pygments_lexer": "ipython3",
   "version": "3.8.10"
  }
 },
 "nbformat": 4,
 "nbformat_minor": 4
}
